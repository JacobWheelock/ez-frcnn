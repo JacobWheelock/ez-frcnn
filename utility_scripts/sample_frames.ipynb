{
 "cells": [
  {
   "cell_type": "code",
   "execution_count": 3,
   "id": "6d7757aa",
   "metadata": {},
   "outputs": [],
   "source": [
    "import cv2\n",
    "import random\n",
    "import os\n",
    "\n",
    "def find_video_by_frame_index(video_frame_ranges, frame_index):\n",
    "    for video_file, (start, end) in video_frame_ranges.items():\n",
    "        if start <= frame_index <= end:\n",
    "            return video_file, frame_index - start\n",
    "    return None, None\n",
    "\n",
    "def sample_n_frames_uniformly_from_folder(folder_path, n_samples):\n",
    "    video_files = [f for f in os.listdir(folder_path) if f.endswith('.avi')]\n",
    "    total_frames = 0\n",
    "    video_frame_ranges = {}\n",
    "\n",
    "    # Calculate the cumulative frame count and store frame ranges for each video\n",
    "    for video_file in video_files:\n",
    "        video_path = os.path.join(folder_path, video_file)\n",
    "        cap = cv2.VideoCapture(video_path)\n",
    "        if not cap.isOpened():\n",
    "            print(f\"Error: Could not open video {video_file}.\")\n",
    "            continue\n",
    "        frame_count = int(cap.get(cv2.CAP_PROP_FRAME_COUNT))\n",
    "        video_frame_ranges[video_file] = (total_frames, total_frames + frame_count - 1)\n",
    "        total_frames += frame_count\n",
    "        cap.release()\n",
    "\n",
    "    # Adjust n_samples if it exceeds the total frame count\n",
    "    n_samples = min(n_samples, total_frames)\n",
    "\n",
    "    # Randomly select n frame indices from the total frame pool\n",
    "    selected_frame_indices = random.sample(range(total_frames), n_samples)\n",
    "\n",
    "    # Map selected frame indices to their corresponding videos and frame positions\n",
    "    for frame_index in selected_frame_indices:\n",
    "        video_file, local_frame_index = find_video_by_frame_index(video_frame_ranges, frame_index)\n",
    "        if video_file is not None:\n",
    "            video_path = os.path.join(folder_path, video_file)\n",
    "            cap = cv2.VideoCapture(video_path)\n",
    "            cap.set(cv2.CAP_PROP_POS_FRAMES, local_frame_index)\n",
    "            ret, frame = cap.read()\n",
    "            frame_file_name = f\"{os.path.splitext(video_file)[0]}_frame_{local_frame_index}.png\"\n",
    "            cv2.imwrite(frame_file_name, frame)\n",
    "            cap.release()\n",
    "\n",
    "    \n",
    "\n",
    "\n",
    "# Usage\n",
    "video_path = './test_data/'  # Replace with your video path\n",
    "n_samples = 80  # Number of frames you want to sample\n",
    "\n",
    "sampled_frames = sample_n_frames_uniformly_from_folder(video_path, n_samples)"
   ]
  },
  {
   "cell_type": "code",
   "execution_count": null,
   "id": "43f48a79",
   "metadata": {},
   "outputs": [],
   "source": []
  },
  {
   "cell_type": "code",
   "execution_count": null,
   "id": "d0726010",
   "metadata": {},
   "outputs": [],
   "source": []
  }
 ],
 "metadata": {
  "kernelspec": {
   "display_name": "Python 3 (ipykernel)",
   "language": "python",
   "name": "python3"
  },
  "language_info": {
   "codemirror_mode": {
    "name": "ipython",
    "version": 3
   },
   "file_extension": ".py",
   "mimetype": "text/x-python",
   "name": "python",
   "nbconvert_exporter": "python",
   "pygments_lexer": "ipython3",
   "version": "3.10.13"
  }
 },
 "nbformat": 4,
 "nbformat_minor": 5
}
