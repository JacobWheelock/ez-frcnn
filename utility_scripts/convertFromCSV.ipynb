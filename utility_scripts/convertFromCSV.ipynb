{
 "cells": [
  {
   "cell_type": "markdown",
   "id": "03ad8c84-4a47-45d8-9b80-7f8f78fc7561",
   "metadata": {},
   "source": [
    "<h1> convertFromCSV </h1>\n",
    "If you already have annotations from the previous version of FRCNN run this notebook to convert them into the correct format for the new version\n",
    "<br><br>\n",
    "Begin by moving the annotations CSV into the /annotations folder and specify the name of your file below. Make sure to run the cell after doing so"
   ]
  },
  {
   "cell_type": "code",
   "execution_count": 1,
   "id": "65c08ac7-d171-4ddc-abf5-c09657f2161b",
   "metadata": {},
   "outputs": [],
   "source": [
    "fileName = 'labels1.csv'\n",
    "path_to_csv = './annotations/' + fileName"
   ]
  },
  {
   "cell_type": "markdown",
   "id": "4e75e57c-cf66-42cf-a62b-b382fda2fa39",
   "metadata": {},
   "source": [
    "Run the cell below to convert your annotations to the correct format. This cell will output individual .xml annotation files for each image specified in the annotations. All files will be output to the /images/fromCSV folder "
   ]
  },
  {
   "cell_type": "code",
   "execution_count": 2,
   "id": "49a03dd5-453a-4c33-aed4-ae4099318f30",
   "metadata": {},
   "outputs": [
    {
     "ename": "NameError",
     "evalue": "name 'pathNew' is not defined",
     "output_type": "error",
     "traceback": [
      "\u001b[0;31m---------------------------------------------------------------------------\u001b[0m",
      "\u001b[0;31mNameError\u001b[0m                                 Traceback (most recent call last)",
      "Cell \u001b[0;32mIn[2], line 18\u001b[0m\n\u001b[1;32m     16\u001b[0m         fname \u001b[38;5;241m=\u001b[39m imname[:\u001b[38;5;241m-\u001b[39m\u001b[38;5;241m4\u001b[39m] \u001b[38;5;241m+\u001b[39m \u001b[38;5;124m'\u001b[39m\u001b[38;5;124m.xml\u001b[39m\u001b[38;5;124m'\u001b[39m\n\u001b[1;32m     17\u001b[0m         pathNew \u001b[38;5;241m=\u001b[39m \u001b[38;5;124m'\u001b[39m\u001b[38;5;124m./images/fromCSV/\u001b[39m\u001b[38;5;124m'\u001b[39m \u001b[38;5;241m+\u001b[39m fname   \n\u001b[0;32m---> 18\u001b[0m \u001b[38;5;28;01mif\u001b[39;00m(\u001b[43mpathNew\u001b[49m \u001b[38;5;241m!=\u001b[39m pathOld):\n\u001b[1;32m     19\u001b[0m     \u001b[38;5;28;01mif\u001b[39;00m (pathOld \u001b[38;5;241m!=\u001b[39m \u001b[38;5;124m'\u001b[39m\u001b[38;5;124m'\u001b[39m):\n\u001b[1;32m     20\u001b[0m         out\u001b[38;5;241m.\u001b[39mwrite(\u001b[38;5;124m'\u001b[39m\u001b[38;5;124m</annotation>\u001b[39m\u001b[38;5;130;01m\\n\u001b[39;00m\u001b[38;5;124m'\u001b[39m)\n",
      "\u001b[0;31mNameError\u001b[0m: name 'pathNew' is not defined"
     ]
    }
   ],
   "source": [
    "import pandas as pd\n",
    "from xml.etree import ElementTree as et\n",
    "# XML annotation path\n",
    "\n",
    "df = pd.read_csv(path_to_csv)\n",
    "xml_data = df.to_xml(path_to_csv[:-3] + 'xml')\n",
    "tree = et.parse(path_to_csv[:-3] + 'xml')\n",
    "root = tree.getroot()\n",
    "pathOld = ''\n",
    "for member in root:\n",
    "    for label in member:\n",
    "        if (label.tag == \"filename\"):\n",
    "            # imname = name of image\n",
    "            imname = label.text\n",
    "            startread = False\n",
    "            fname = imname[:-4] + '.xml'\n",
    "            pathNew = './images/fromCSV/' + fname   \n",
    "    if(pathNew != pathOld):\n",
    "        if (pathOld != ''):\n",
    "            out.write('</annotation>\\n')\n",
    "            out.close()\n",
    "        out = open(pathNew, \"w\")\n",
    "        out.write('<?xml version=\"1.0\" encoding=\"UTF-8\"?>\\n')\n",
    "        out.write('<annotation>\\n')\n",
    "    for attrib in member:\n",
    "        out.flush()\n",
    "        if (attrib.tag == 'xmin'):\n",
    "            # xmin = left corner x-coordinates\n",
    "            xmin = int(attrib.text)\n",
    "        if (attrib.tag == 'ymin'):\n",
    "            # ymin = left corner y-coordinates\n",
    "            ymin = int(attrib.text)\n",
    "        if (attrib.tag == \"xmax\"):\n",
    "            # xmax = right corner x-coordinates\n",
    "            xmax = int(attrib.text)\n",
    "        if (attrib.tag == \"ymax\"):\n",
    "            # ymax = right corner y-coordinates\n",
    "            ymax = int(attrib.text)\n",
    "        if (attrib.tag == \"class\"):\n",
    "            # classL = label type\n",
    "            classL = attrib.text\n",
    "\n",
    "            out.write('<object>\\n')\n",
    "            out.write('<xmin>')\n",
    "            out.write(str(xmin))\n",
    "            out.write('</xmin>\\n')\n",
    "            out.write('<xmax>')\n",
    "            out.write(str(xmax))\n",
    "            out.write('</xmax>\\n')\n",
    "            out.write('<ymin>')\n",
    "            out.write(str(ymin))\n",
    "            out.write('</ymin>\\n')\n",
    "            out.write('<ymax>')\n",
    "            out.write(str(ymax))\n",
    "            out.write('</ymax>\\n')\n",
    "            out.write('<class>')\n",
    "            out.write(classL)\n",
    "            out.write('</class>\\n')\n",
    "            out.write('</object>\\n')\n",
    "    \n",
    "    pathOld = pathNew"
   ]
  },
  {
   "cell_type": "code",
   "execution_count": null,
   "id": "07702ed5",
   "metadata": {},
   "outputs": [],
   "source": []
  }
 ],
 "metadata": {
  "kernelspec": {
   "display_name": "Python 3 (ipykernel)",
   "language": "python",
   "name": "python3"
  },
  "language_info": {
   "codemirror_mode": {
    "name": "ipython",
    "version": 3
   },
   "file_extension": ".py",
   "mimetype": "text/x-python",
   "name": "python",
   "nbconvert_exporter": "python",
   "pygments_lexer": "ipython3",
   "version": "3.10.13"
  }
 },
 "nbformat": 4,
 "nbformat_minor": 5
}
